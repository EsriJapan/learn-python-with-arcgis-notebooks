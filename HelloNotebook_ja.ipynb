{
 "cells": [
  {
   "cell_type": "markdown",
   "metadata": {},
   "source": [
    "# レッスン の概要"
   ]
  },
  {
   "cell_type": "markdown",
   "metadata": {},
   "source": [
    "\n",
    "ArcGIS Online で組織のバナーの上部に **Notebook (ノートブック)** と表⽰されている場合、ArcGIS Notebooks でノートブックを作成および編集することが可能です。\n",
    "\n",
    "\n",
    "<img src=\"https://learngis.maps.arcgis.com/sharing/rest/content/items/70817e325f4f4d2e8bba296dd6295f40/data\" width=\"640px\" title=\"ArcGIS Notebooks are available to your organization.\" />\n",
    "\n",
    "バナーに **Notebook (ノートブック)** と表⽰されていない場合は、 [work with your organization's administrator to enable access\n",
    "to ArcGIS Notebooks](https://learngis.maps.arcgis.com/home/item.html?id=db05d4f32e6145669e9d39f0ab258b67) を参照し、アクセスを有効にしてください。アクセス権を取得できたら、最初のノートブックを作成し、ArcGIS Notebooks を使って Python を学び始めることができます。このレッスンは、ArcGIS Notebooks の入門編として提供されています。このノートブックのコード セルを読みながら実行することも、ArcGIS Learn アカウントまたは ArcGIS Online の組織アカウントで 新しいノートブック を作成し、そのノートブックでこれらの演習を完了することもできます。初めてノートブックを作成し、このノートブックで説明している手順を実行できるようになるためには、後者の方法で演習することをお勧めします。\n",
    "\n",
    "\n",
    "このレッスンを通して、次のような方法を学びます。  \n",
    "* [ノートブック の作成と保存](#create-a-notebook)\n",
    "* [ノートブック での作業](#notebook-basics)\n",
    "* [ArcGIS Notebooks でマップを作成](#create-a-map)\n",
    "* [ArcGIS Online のコンテンツをノートブック で探索](#explore-arcgis-online-content)\n",
    "* [マップ にレイヤー を追加](#add-a-layer)\n",
    "* [ArcGIS Online にマップを保存](#save-the-map)\n",
    "* [ノートブック の共有](#share-the-notebook)\n",
    "* [ノートブック のダウンロード](#download-a-notebook)\n",
    "* [ArcGIS Pro でノートブック を実行](#notebook-in-pro)\n",
    "* [Jupyter でノートブック を実行](#notebook-in-jupyter)\n",
    "* [ノートブック をアップロード](#upload-a-notebook)\n",
    "* [チャレンジ](#challenge)"
   ]
  },
  {
   "cell_type": "markdown",
   "metadata": {},
   "source": [
    "# ノートブック の作成と保存 <a class=\"anchor\" id=\"create-a-notebook\"></a>"
   ]
  },
  {
   "cell_type": "markdown",
   "metadata": {},
   "source": [
    "最初のノートブック を作る事からはじめましょう。\n",
    "\n",
    "1. このノートブック を開いたまま、ブラウザで新しいタブを開き、ArcGIS Online 組織に移動します。ArcGIS Notebooks が有効になっている場合、組織のバナーの上部に **Notebook (ノートブック)** が表示されます。\n",
    "\n",
    "<img src=\"https://learngis.maps.arcgis.com/sharing/rest/content/items/70817e325f4f4d2e8bba296dd6295f40/data\" width=\"600px\" title=\"Click on Notebook to create a new ArcGIS Notebook.\"/>"
   ]
  },
  {
   "cell_type": "markdown",
   "metadata": {},
   "source": [
    "2. **ノートブック** をクリックして、新しい ArcGIS ノートブック を開きます。 \n",
    "3. **New Notebook (新しいノートブック)** ボタンをクリックすると、**Standard**、**Advanced**、**Advanced with GPU サポート**  の 3 つのオプションがあるドロップダウン リストが表示されます。 \n",
    "\n",
    "メモリ や CPU などのリソース割り当てや、どのPython パッケージが利用できるかは、[ノートブック のランタイム](https://enterprise.arcgis.com/en/notebook/latest/use/windows/specify-the-runtime-of-a-notebook.htm#:%7E:text=Open%20the%20notebook's%20item%20details,list%2C%20and%20select%20the%20runtime) によって決まります。"
   ]
  },
  {
   "cell_type": "markdown",
   "metadata": {},
   "source": [
    "4. **Standard** をクリック  \n",
    "\n",
    "[This runtime contains standard open source Python libraries and the ArcGIS API for Python](https://www.esri.com/arcgis-blog/products/arcgis-online/analytics/arcgis-notebooks-public-beta/) にあるように、Standard はオープンソースの標準的な Python ライブラリと ArcGIS API for Python が含まれおり、この最初のノートブックで使用するのはこれだけです。Advanced ランタイム オプションには、Standard ランタイムに含まれるライブラリに加えて ArcPy が含まれ、さらに多くのメモリと CPU が含まれているため、より大規模な解析および処理タスクを管理することができます。Advanced with GPU サポート オプションには、Advanced ランタイムと同じライブラリを含み、機械学習や深層学習を含む計算集約型のワークフロー向けに専用のGPUインフラを提供します。\n"
   ]
  },
  {
   "cell_type": "markdown",
   "metadata": {},
   "source": [
    "ノートブック を作成した際に、名前を付けて保存しておくのがベストプラクティスです。\n",
    "\n",
    "5. ノートブック の右上にある **Save (保存)** ボタンをクリックし、**Save As (名前を付けて保存)** をクリックします。\n",
    "\n",
    "<img src=\"https://learngis.maps.arcgis.com/sharing/rest/content/items/2ec92da157e048158832aca0ea1ad392/data\" width=\"200px\" title=\"Save your notebook.\"/>"
   ]
  },
  {
   "cell_type": "markdown",
   "metadata": {},
   "source": [
    "6. プロンプト が表示されたら、「My First Notebook」などのタイトルと、アンダースコア、最初と最後のイニシャル、いくつかのタグ、そして簡単なサマリーを入力します。そして、**Save Notebook (ノートブックの保存)** をクリックします。この情報は、ArcGIS Online のノートブック のアイテム ページに表示されます。\n",
    "\n",
    "ArcGIS Online のノートブック で作業する場合は、定期的に作業内容を保存することをお勧めします。"
   ]
  },
  {
   "cell_type": "markdown",
   "metadata": {},
   "source": [
    "# ノートブック での作業 <a class=\"anchor\" id=\"notebook-basics\"></a>"
   ]
  },
  {
   "cell_type": "markdown",
   "metadata": {},
   "source": [
    "新しいノートブック には、いくつかのマークダウン セルと、ArcGIS API for Python を呼び出して ArcGIS Online に接続する 1 つのコード セルがすでに入力されている状態から始まります。その後、コードとマークダウン セルを追加して、ワークフローを作成することができます。\n",
    "\n",
    "1. **Welcome to your notebook** セルをダブルクリックします。  \n",
    "\n",
    "自分のノートブック または下のセル でこれを行うことができます。 \n",
    "Markdown は、インターネット上で広く使われている、軽量のプレーンテキスト書式構文です。セルをダブルクリックすると、テキストが<span style=\"color:blue\">**青色**</span>で表示され、その前に2つの数字記号(**##**)が表示されます。\n",
    "\n",
    "<img src=\"https://learngis.maps.arcgis.com/sharing/rest/content/items/e138425fd9e94e70b7d2f34ce40c5c44/data\" width=\"400px\" title=\"Markdown tag welcoming you to your new notebook.\"/>"
   ]
  },
  {
   "cell_type": "markdown",
   "metadata": {},
   "source": [
    "## Welcome to your notebook.\n"
   ]
  },
  {
   "attachments": {
    "image.png": {
     "image/png": "[encoded data removed]"
    }
   },
   "cell_type": "markdown",
   "metadata": {},
   "source": [
    "2. マークダウン セル内で **Run** をクリックします。  \n",
    "\n",
    "これはセルを実行し、ヘッダーにします。キーボードで*Shift+Enter* でセルを実行することも可能です。*Shift+Enter* はノートブックのセルを実行するキーボードショートカットです。\n",
    "![image.png](attachment:image.png)"
   ]
  },
  {
   "attachments": {
    "image.png": {
     "image/png": "[encoded data removed]"
    }
   },
   "cell_type": "markdown",
   "metadata": {},
   "source": [
    "3. ノートブックの上部にある **Open the command palette** をクリックします。\n",
    "![image.png](attachment:image.png)\n",
    "\n",
    "これはすべてのキーボード ショートカットのリストです。"
   ]
  },
  {
   "cell_type": "markdown",
   "metadata": {},
   "source": [
    "4. **Welcome to your notebook** セルをダブルクリックします。**Welcome to your notebook** の前に、さらに2つのシャープ記号（<span style=\"color:blue\">**##**</span>）を挿入してください。これで、記号は4つになりました。記号を追加すると、ヘッダーのサイズが変わります。セルを **実行** します。 \n",
    "\n",
    "ヘッダーが小さくなります。"
   ]
  },
  {
   "cell_type": "markdown",
   "metadata": {},
   "source": [
    "5. **Welcome to your notebook** のセルを再度ダブルクリックします。ヘッダーから2つのシャープ記号を削除し、*Enter*を押してください。2行目に、*This is my first notebook* やその他追加したいテキストを入力します。そして、**Run** をクリックします。 \n",
    "ヘッダーは最初のサイズに戻り、そのセルの下にテキストが表示されるようになりました。"
   ]
  },
  {
   "cell_type": "markdown",
   "metadata": {},
   "source": [
    "新しいノートブックでは、2番目のセルに **Run this cell to connect to your GIS and get started** と表示されます。これはマークダウン セルでもあります。このセルは、その後に続く ArcGIS Online に接続するコード セルを実行するように指示しています。\n",
    "\n",
    "<img src=\"https://learngis.maps.arcgis.com/sharing/rest/content/items/1187975e724246c18666e66b970847e9/data\" width=\"460px\" title=\"Run this cell at the beginning of every notebook that connects a user to ArcGIS Online.\"/>"
   ]
  },
  {
   "cell_type": "markdown",
   "metadata": {},
   "source": [
    "7. コード セル内でダブルクリックし、実行します。 \n",
    " \n",
    "セルの実行中は、入力エリアの括弧の中にアスタリスクがあるため、 <span style=\"color:blue\">In [*]</span>と表示されます。セルの実行が終了すると、括弧内のアスタリスクの代わりに数字1が表示され、 <span style=\"color:blue\">In [1]</span>と表示されます。コード セルが実行されるたびに、括弧内の数字が1つずつ増えていきます。このセルは必ず実行してください。このセルを実行しないと、他のコード セルは実行されません。"
   ]
  },
  {
   "cell_type": "markdown",
   "metadata": {},
   "source": [
    "#### Run this cell to connect to your GIS and get started:"
   ]
  },
  {
   "cell_type": "code",
   "execution_count": null,
   "metadata": {},
   "outputs": [],
   "source": [
    "from arcgis.gis import GIS\n",
    "gis = GIS(\"home\")"
   ]
  },
  {
   "cell_type": "markdown",
   "metadata": {},
   "source": [
    "# ArcGIS Notebooks でマップを作成<a class=\"anchor\" id=\"create-a-map\"></a>"
   ]
  },
  {
   "attachments": {
    "image.png": {
     "image/png": "[encoded data removed]"
    }
   },
   "cell_type": "markdown",
   "metadata": {},
   "source": [
    "マークダウン に慣れ、既存のコードを実行したので、次は自分自身のコードを書いて実行してみましょう。\n",
    "1. リボン上で プラス (+) 記号をクリックします。\n",
    "\n",
    "![image.png](attachment:image.png)\n",
    "この操作により、先ほど実行したコード セルの下に新しいセル が作成されます。\n",
    "新しいセルは、現在選択されているセル の下に表示されます。"
   ]
  },
  {
   "cell_type": "markdown",
   "metadata": {},
   "source": [
    "2. そのセルを Markdown セルに設定します。\n",
    "<img src=\"https://learngis.maps.arcgis.com/sharing/rest/content/items/274122471585410fb62dcd047e5cf075/data\" width=\"160\" />\n",
    "\n",
    "\n",
    "3. 新しいマークダウン セル内で、**### My First Map** と入力します。 \n",
    "4. 同じセルの2行目に、これから書くコードを記述したテキストをヘッダーの下に追加してください。テキストの入力が終わったら、セルを実行します。"
   ]
  },
  {
   "cell_type": "markdown",
   "metadata": {},
   "source": [
    "5. 次に、ノートブック にマップ を作成します。まず、新しいコード セルを作成します。 "
   ]
  },
  {
   "cell_type": "markdown",
   "metadata": {},
   "source": [
    "6. 新しいコード セル内で、マップを表す **my_first_map** という名前の変数を作成し、ArcGIS API for Python を使用してその変数に特定の場所を中心としたWeb マップ を設定します。\n",
    "``my_first_map = gis.map(\"Los Angeles, CA\")`` のように、変数にカリフォルニア州ロサンゼルスを中心としたWeb マップ を設定します。セルを実行します。\n"
   ]
  },
  {
   "cell_type": "code",
   "execution_count": null,
   "metadata": {},
   "outputs": [],
   "source": [
    "my_first_map = gis.map(\"Los Angeles, CA\")"
   ]
  },
  {
   "cell_type": "markdown",
   "metadata": {},
   "source": [
    "7. 変数に名前を付けたので、それを呼び出してマップを作成します。新しいコード セルを作成し、そのコード セル内で **my_first_map** と入力し、そのセルを実行することで行うことが可能です。"
   ]
  },
  {
   "cell_type": "code",
   "execution_count": null,
   "metadata": {},
   "outputs": [],
   "source": [
    "my_first_map"
   ]
  },
  {
   "cell_type": "markdown",
   "metadata": {},
   "source": [
    "セルが実行されると、最初のマップ がノートブック に表示されます。マップの中心は変更することもできます。マップの中心を変更するには、前のセルに戻って、「Los Angeles, CA」を別の場所に変更します。また、現在のマップを移動したり、拡大したりといった操作をすることも可能です。"
   ]
  },
  {
   "cell_type": "markdown",
   "metadata": {},
   "source": [
    "# ArcGIS Online のコンテンツをノートブックで探索  <a class=\"anchor\" id=\"explore-arcgis-online-content\"></a>"
   ]
  },
  {
   "cell_type": "markdown",
   "metadata": {},
   "source": [
    "ArcGIS Notebooks では、コンテンツを検索したり、アイテムのメタデータを表示したりすることができます。次に、ロサンゼルス のレイヤーを検索して、ノートブックに追加します。\n",
    "\n",
    "1.  **Add (追加)** ボタンをクリックします。\n",
    "\n",
    "<img src=\"https://learngis.maps.arcgis.com/sharing/rest/content/items/100fccf600a84dee9f0acf38f0a6f61d/data\" width=\"400px\" />  \n",
    "\n",
    "**Add (追加)** ボタンをクリックすると、ArcGIS Online のアイテムをコードとしてノートブック に直接追加できる **コンテンツの追加** パネルが表示されます。ArcGIS Online または ArcGIS Notebooks にコンテンツを保存している場合、そのコンテンツは **コンテンツの追加** パネルから利用でき、ノートブック で使用することができます。また、組織内、ArcGIS Online、または ArcGIS Living Atlas に共有されているコンテンツにアクセスすることもできます。今回の場合、Living Atlas のコンテンツを使用します。 \n",
    "\n",
    "このレッスンで使用するレイヤは Premium コンテンツであり、このレッスンでの使用にはArcGIS Online クレジットを約 2 クレジットを消費します。このクレジットを消費したくない場合は、Learn_ArcGIS が所有する Los Angeles River アイテム（Living Atlas ではなく ArcGIS Online で検索）など、別のフィーチャ レイヤーを追加することができます。\n"
   ]
  },
  {
   "cell_type": "markdown",
   "metadata": {},
   "source": [
    "2. **My Content (マイ コンテンツ)** をクリックし、**Living Atlas** を選択し、<u>USA Traffic Counts</u> を検索します。\n",
    "最初のアイテムは Esri [2020 USA Traffic Counts](https://learngis.maps.arcgis.com/home/item.html?id=70507a8779a2470b89c6a8c90394d68e) レイヤーです。追加ボタン (＋記号) をクリックして、ノートブックに追加します。\n",
    "\n",
    "<img src=\"https://learngis.maps.arcgis.com/sharing/rest/content/items/2070bdf577fc4886bb3d87658e959125/data\" width=\"300\" />"
   ]
  },
  {
   "cell_type": "markdown",
   "metadata": {},
   "source": [
    "3. コード スニペットを含む新しいコード セルが、マップの下のノートブック に追加されます。このセルは、変数アイテム としてtraffic counts レイヤーを呼び出し、そのメタデータをロードします。コード セルは次のようになります。"
   ]
  },
  {
   "cell_type": "code",
   "execution_count": null,
   "metadata": {},
   "outputs": [],
   "source": [
    "# Item Added From Toolbar\n",
    "# Title: 2020 USA Traffic Counts | Type: Feature Service | Owner: esri\n",
    "item = gis.content.get(\"70507a8779a2470b89c6a8c90394d68e\")\n",
    "item"
   ]
  },
  {
   "cell_type": "markdown",
   "metadata": {},
   "source": [
    "5. アイテムの下にコード セルを作成し、マップ変数を呼び出します。**my_** と入力し、**Tab** を押してください。\n",
    "\n",
    "変数名を入力しながら **Tab** を押すと、ノートブックのオートコンプリート機能が有効になります。行が補完され、**my_first_map** が表示されます。"
   ]
  },
  {
   "cell_type": "markdown",
   "metadata": {},
   "source": [
    "6. **my_first_map** の後に、**.ad** と入力して、**my_first_map.ad** と表示されるようにして、**Tab** を押してください。 これで ``my_first_map.add_layer`` というコードが完成しました。"
   ]
  },
  {
   "cell_type": "markdown",
   "metadata": {},
   "source": [
    "7. *Shift+Tab* を押します。  \n",
    "\n",
    "*Shift+Tab* を押すと、docstring が表示されます。docstring は開発者向けの小さな説明文書で、そのメソッドが何をするのかが書かれています。"
   ]
  },
  {
   "cell_type": "markdown",
   "metadata": {},
   "source": [
    "8. docstring を調査した後、閉じます。"
   ]
  },
  {
   "cell_type": "markdown",
   "metadata": {},
   "source": [
    "9. 関数の最後にクエスチョンマークを入力することで、その関数のヘルプドキュメントにアクセスすることができます。例えば、``my_first_map.add_layer?`` と入力すると、ノートブックの一番下にある **add_layer** のヘルプドキュメントが表示されます。これを試してみてください。"
   ]
  },
  {
   "cell_type": "markdown",
   "metadata": {},
   "source": [
    "10.ヘルプドキュメントを読んだら、閉じてください。"
   ]
  },
  {
   "cell_type": "markdown",
   "metadata": {
    "heading_collapsed": true
   },
   "source": [
    "# マップ にレイヤー を追加 <a class=\"anchor\" id=\"add-a-layer\"></a>"
   ]
  },
  {
   "cell_type": "markdown",
   "metadata": {
    "hidden": true
   },
   "source": [
    "ArcGIS Notebooks では、マップにレイヤーを追加して、Web マップ として保存できるマップ ビュー オブジェクトを構築することができます。次に、ロサンゼルスの地図に <u>USA Traffic Counts</u> レイヤーを追加します。\n",
    "\n",
    "[Map view](https://developers.arcgis.com/python/api-reference/arcgis.widgets.html?highlight=map%20view#arcgis.widgets.MapView) オブジェクトには **add_layer** という名前のメソッドがあります。これを使うと、ArcGIS Notebooks のマップ にレイヤー を追加することができます。 \n",
    "\n",
    "1. **my_first_map** の関数シグネチャを調査した同じセルで、**add_layer**メソッドを呼び出し、それを使って **2020 USA Traffic Counts** アイテムを地図に追加します。セルを実行します。セルのコードは ``my_first_map.add_layer(item)`` のように表示されるはずです。"
   ]
  },
  {
   "cell_type": "code",
   "execution_count": null,
   "metadata": {
    "hidden": true
   },
   "outputs": [],
   "source": [
    "my_first_map.add_layer(item)"
   ]
  },
  {
   "cell_type": "markdown",
   "metadata": {
    "hidden": true
   },
   "source": [
    "2. セルが完了したら、ノートブック内のマップにスクロールして、<u>USA Traffic Counts</u> レイヤーが追加されていることを確認します。\n",
    "\n",
    "ArcGIS Notebooks を使用して、最初のマップを作成し、レイヤを追加しました。このマップには、ズーム ボタン、コンパス、およびマップ ビューからグローブ ビューに変更するオプションが含まれています。 \n",
    "\n",
    "3. 地図のパン、ズームにはこれらのボタンを使います。\n",
    "\n",
    "これは、ArcGIS Online で使用するマップと同じ機能を持つ Live の Web マップ です。"
   ]
  },
  {
   "cell_type": "markdown",
   "metadata": {},
   "source": [
    "# ArcGIS Online にマップを保存<a class=\"anchor\" id=\"save-the-map\"></a>"
   ]
  },
  {
   "cell_type": "markdown",
   "metadata": {},
   "source": [
    "数行のコードで、作成したマップを ArcGIS Online に保存することができます。Web マップは、title （タイトル）、snippet（サマリー）、tags（タグ）など、特定のプロパティによって定義されます。Web マップ の定義方法については、[web map specification](https://developers.arcgis.com/web-map-specification/) を参照してください。Pythonのコードでプロパティを含む辞書を作成することで、プロパティを定義することができます。そして、そのマップをWeb マップとして保存することができます。\n",
    "\n",
    "1. 新しいコード セルで、以下の辞書を使用して Web マップ プロパティを定義します。**title（タイトル）**、**snippet（サマリー）**、または **tags（タグ）** を修正または変更することができます。セルを実行します。\n",
    "\n",
    "```webmap_properties = {'title':'My First Map',\n",
    "    'snippet': 'My first map from my first notebook',\n",
    "    'tags':['ArcGIS Notebooks', 'Los Angeles', 'traffic']}```"
   ]
  },
  {
   "cell_type": "code",
   "execution_count": null,
   "metadata": {},
   "outputs": [],
   "source": [
    "webmap_properties = {'title':'My First Map',\n",
    " 'snippet': 'My first map from my first notebook',\n",
    " 'tags':['ArcGIS Notebooks', 'Los Angeles', 'traffic']}"
   ]
  },
  {
   "cell_type": "markdown",
   "metadata": {},
   "source": [
    "2. Web マップ を保存するセルをもう一つ作成し、次の行を追加し、セルを実行します。  \n",
    "```my_first_map.save(webmap_properties)```"
   ]
  },
  {
   "cell_type": "code",
   "execution_count": null,
   "metadata": {},
   "outputs": [],
   "source": [
    "my_first_map.save(webmap_properties)"
   ]
  },
  {
   "cell_type": "markdown",
   "metadata": {},
   "source": [
    "このセルを実行すると、ArcGIS Online の Web マップ アイテムに移動するためのアクティブ リンクが作成されます。アクティブ リンクをクリックし、ArcGIS Online で Web マップ が作成されたことを確認します。 "
   ]
  },
  {
   "cell_type": "markdown",
   "metadata": {},
   "source": [
    "3. ノートブックの右上にある **Save（保存）** ボタンをクリックします。   \n",
    "オンラインでホストされているノートブックで作業するときは、定期的に作業内容を保存しておくとよいでしょう。\n",
    "もしノートブックで 20 分間 Python の活動がなければ、Python カーネルはシャットダウンし、ノートブックは動作を停止し、メモリ内のすべての変数が失われます。 \n",
    "カーネルの再起動後、値を復元するためには、すべてのセルをもう一度、最初から実行する必要があります。"
   ]
  },
  {
   "cell_type": "markdown",
   "metadata": {},
   "source": [
    "# ノートブック の共有 <a class=\"anchor\" id=\"share-the-notebook\"></a>"
   ]
  },
  {
   "cell_type": "markdown",
   "metadata": {},
   "source": [
    "ノートブック は、ArcGIS Online の他のコンテンツと同様に、組織内の他のユーザと共有したり、一般に公開したりすることができます。他のユーザが ArcGIS Notebools にアクセスできる場合、そのユーザはノートブック を自分で開いて、実行することができます。その場合、そのユーザーは自分の ArcGIS Online コンテンツ内にノートブックのコピーを作成することになります。ノートブック を実行する権限がないユーザーは、ノートブック をダウンロードすることだけが可能です。ノートブック をダウンロードすると、[ArcGIS Pro](#notebook-in-pro) または [Jupyter](#notebook-in-jupyter) のいずれかでノートブック を開くことができるようになります。\n",
    "\n",
    "1. ノートブック を共有したい場合は、ノートブック の上部にある **Share (共有)** ボタンをクリックしてください。\n",
    "\n",
    "<img src=\"https://learngis.maps.arcgis.com/sharing/rest/content/items/4c8a0c24c0fe4cbdb57aed8681a1dc29/data\" width=\"400px\" />\n"
   ]
  },
  {
   "attachments": {
    "image.png": {
     "image/png": "[encoded data removed]"
    }
   },
   "cell_type": "markdown",
   "metadata": {},
   "source": [
    "2. アプリの左側にパネルが開きます。**Share (共有)** ボタンをクリックし、次に進みます。\n",
    "\n",
    "![image.png](attachment:image.png)"
   ]
  },
  {
   "cell_type": "markdown",
   "metadata": {},
   "source": [
    "3. ノートブック を組織で共有するか、すべての人に公開するか、グループで共有するかを選択することができます。ノートブックを共有する人を選択し、**Save (保存)**をクリックします。\n",
    "\n",
    "<img src=\"https://learngis.maps.arcgis.com/sharing/rest/content/items/c724921617ea4deb8445d591be4bd3c9/data\" width=\"400px\" />"
   ]
  },
  {
   "cell_type": "markdown",
   "metadata": {},
   "source": [
    "4.ノートブック を保存したら、ノートブック の左上にあるメニュー ボタンをクリックして **Content (コンテンツ)** をクリックし、ArcGIS Online の **Content (コンテンツ)** ページに戻ります。\n",
    "\n",
    "<img src=\"https://learngis.maps.arcgis.com/sharing/rest/content/items/c290dc52a20f4a1497d3d48f67ace422/data\" width=\"320px\" />"
   ]
  },
  {
   "cell_type": "markdown",
   "metadata": {
    "heading_collapsed": true
   },
   "source": [
    "# ノートブック のダウンロード <a class=\"anchor\" id=\"download-a-notebook\"></a>"
   ]
  },
  {
   "cell_type": "markdown",
   "metadata": {
    "hidden": true
   },
   "source": [
    "一度保存したノートブック は、ローカルにダウンロードしてデスクトップ やArcGIS Pro で実行することもできます。\n",
    "\n",
    "1. ArcGIS の **Content (コンテンツ)** ページで、ノートブック をクリックします。たとえば、このノートブック の名前は　***1. Hello, Notebook!***　という名前です。これにより、ノートブックの **Overview（概要）** ページが表示されます。\n",
    "<img src=\"https://learngis.maps.arcgis.com/sharing/rest/content/items/d7ad47d250c446c68c5c99db912e0544/data\" width=\"500px\" />"
   ]
  },
  {
   "cell_type": "markdown",
   "metadata": {
    "hidden": true
   },
   "source": [
    "2.  アイテムの **Overview (概要)** ページで、**Download (ダウンロード)** をクリックします。"
   ]
  },
  {
   "cell_type": "markdown",
   "metadata": {
    "hidden": true
   },
   "source": [
    "ノートブック がローカル コンピュータにダウンロードされます。このノートブック は ArcGIS Pro と Jupyter で実行することができます。\n",
    "\n",
    "3. ダウンロードしたファイルを任意のフォルダに移動します。"
   ]
  },
  {
   "cell_type": "markdown",
   "metadata": {},
   "source": [
    "# ノートブック をArcGIS Pro で実行 <a class=\"anchor\" id=\"notebook-in-pro\"></a>"
   ]
  },
  {
   "cell_type": "markdown",
   "metadata": {},
   "source": [
    "次に、ArcGIS Pro でノートブックを開き、実行します。この手順を完了するには、ArcGIS Pro に慣れている必要があります。ArcGIS Pro に慣れていない場合は、[はじめての ArcGIS Pro](https://learn.arcgis.com/ja/projects/get-started-with-arcgis-pro/) のレッスンを確認してから続行してください。"
   ]
  },
  {
   "cell_type": "markdown",
   "metadata": {},
   "source": [
    "1. ノートブック をダウンロードし、ArcGIS Pro で開きます。"
   ]
  },
  {
   "cell_type": "markdown",
   "metadata": {},
   "source": [
    "2. ArcGIS Pro で、**Map** テンプレートを使用して新しいプロジェクトを作成します。プロジェクト名は ***Notebook_Validation*** とし、アンダースコアと自分のイニシャルを続けます。"
   ]
  },
  {
   "attachments": {
    "image.png": {
     "image/png": "[encoded data removed]"
    }
   },
   "cell_type": "markdown",
   "metadata": {},
   "source": [
    "3. ArcGIS Online の組織サイトでサインインしていることを確認します。ArcGIS Pro の右上を確認し、接続されていることを確認します。\n",
    "\n",
    "![image.png](attachment:image.png)"
   ]
  },
  {
   "cell_type": "markdown",
   "metadata": {},
   "source": [
    "4. ArcGIS Pro の **カタログ** ペインで、**Folders (フォルダー)** を右クリックし、**Add Folder Connection (フォルダー接続を追加)** をクリックします。ダウンロードしたノートブックを保存したフォルダーを参照し、**OK** をクリックします。"
   ]
  },
  {
   "cell_type": "markdown",
   "metadata": {},
   "source": [
    "5. ArcGIS Pro の **カタログ** で、connection フォルダを展開します。ダウンロードしたノートブックが表示されるはずです。\n",
    "\n",
    "<img src=\"https://learngis.maps.arcgis.com/sharing/rest/content/items/c7e2b4daa78b4e8096ddbb9930e28637/data\" width=\"340px\" />\n"
   ]
  },
  {
   "cell_type": "markdown",
   "metadata": {},
   "source": [
    "6. ノートブック をダブルクリックすると、ArcGIS Pro でノートブックが開きます。"
   ]
  },
  {
   "cell_type": "markdown",
   "metadata": {},
   "source": [
    "ArcGIS Online に接続していれば、ArcGIS Notebooks と同じようにノートブックが実行されるはずです。"
   ]
  },
  {
   "cell_type": "markdown",
   "metadata": {
    "heading_collapsed": true
   },
   "source": [
    "# Jupyter でノートブック を実行 <a class=\"anchor\" id=\"notebook-in-jupyter\"></a>"
   ]
  },
  {
   "cell_type": "markdown",
   "metadata": {
    "hidden": true
   },
   "source": [
    "次に、Jupyter で実行するようにノートブックを変更します。Jupyter を初めて使う方は、このステップを完了する前に、[Three Ways to Get Jupyter Notebooks and the ArcGIS API for Python](https://medium.com/@alberto.e.nieto/three-ways-to-get-jupyter-notebooks-and-the-arcgis-api-for-python-a601a77e46be) を読んでください。"
   ]
  },
  {
   "cell_type": "markdown",
   "metadata": {
    "hidden": true
   },
   "source": [
    "1. Jupyter を起動します。"
   ]
  },
  {
   "cell_type": "markdown",
   "metadata": {
    "hidden": true
   },
   "source": [
    "2. Jupyterでダウンロードしたノートブックが含まれるフォルダーを参照します。"
   ]
  },
  {
   "cell_type": "markdown",
   "metadata": {
    "hidden": true
   },
   "source": [
    "3. ノートブック名をクリックすると、ノートブックが表示されます。"
   ]
  },
  {
   "cell_type": "markdown",
   "metadata": {
    "hidden": true
   },
   "source": [
    "4. ノートブックで、**Run this cell to connect to your GIS and get started** と書かれた行の下のコード セルに移動してください。\n",
    "\n",
    "<img src=\"https://learngis.maps.arcgis.com/sharing/rest/content/items/1187975e724246c18666e66b970847e9/data\" width=\"460px\" title=\"Run this cell at the beginning of every notebook that connects a user to ArcGIS Online.\"/>"
   ]
  },
  {
   "cell_type": "markdown",
   "metadata": {
    "hidden": true
   },
   "source": [
    "5. **\"home\"** キーワードを使用すると、ArcGIS Online または所属する ArcGIS 組織に接続できなくなります。サインインする ArcGIS 組織とユーザー名を指定するようにコードを変更する必要があります。例えば、Learn ArcGIS アカウントで作業している場合、組織には\"https://learngis.maps.arcgis.com/\" を使用し、ユーザー名はLearn ArcGIS 組織のものを使います。"
   ]
  },
  {
   "cell_type": "code",
   "execution_count": 6,
   "metadata": {
    "hidden": true
   },
   "outputs": [
    {
     "name": "stdout",
     "output_type": "stream",
     "text": [
      "Enter password: ········\n"
     ]
    }
   ],
   "source": [
    "from arcgis.gis import GIS\n",
    "gis = GIS(\"https://learngis.maps.arcgis.com\", \"username\") # Replace username with your ArcGIS Online username."
   ]
  },
  {
   "cell_type": "markdown",
   "metadata": {
    "hidden": true
   },
   "source": [
    "6. セルを実行します。"
   ]
  },
  {
   "cell_type": "markdown",
   "metadata": {
    "hidden": true
   },
   "source": [
    "7. セルを実行すると、パスワードの入力を求められます。パスワードを入力し、接続を認証してください。 \n",
    "\n",
    "ノートブック に書かれたコードをJupyter で実行することができるようになりました。"
   ]
  },
  {
   "cell_type": "markdown",
   "metadata": {
    "heading_collapsed": true
   },
   "source": [
    "# ノートブック をアップロード <a class=\"anchor\" id=\"upload-a-notebook\"></a>"
   ]
  },
  {
   "cell_type": "markdown",
   "metadata": {
    "hidden": true
   },
   "source": [
    "Jupyter や ArcGIS Pro で作成したノートブック がある場合、そのノートブックを ArcGIS Online にアップロードして ArcGIS Notebooks で実行することができます。\n",
    "\n",
    "1. ArcGIS Online にノートブックをアップロードするには、アカウントにサインインして Content（コンテンツ） に移動します。\n",
    "\n",
    "<img src=\"https://learngis.maps.arcgis.com/sharing/rest/content/items/825c2f82026c4d8db5f220703fa33841/data\" width=\"640px\" />"
   ]
  },
  {
   "attachments": {
    "image.png": {
     "image/png": "[encoded data removed]"
    }
   },
   "cell_type": "markdown",
   "metadata": {
    "hidden": true
   },
   "source": [
    "2. **New Item (新しいアイテム)** をクリックします\n",
    "\n",
    "![image.png](attachment:image.png)"
   ]
  },
  {
   "attachments": {
    "image.png": {
     "image/png": "[encoded data removed]"
    }
   },
   "cell_type": "markdown",
   "metadata": {
    "hidden": true
   },
   "source": [
    "3. **新規アイテム** ウィンドウで、**お使いのデバイス** を選択し、アップロードするノートブック（.ipynbファイル）を保存した場所を参照してください。Title（タイトル）と tags（タグ）を設定し、**Save (保存)** をクリックします。\n",
    "\n",
    "![image.png](attachment:image.png)"
   ]
  },
  {
   "cell_type": "markdown",
   "metadata": {
    "hidden": true
   },
   "source": [
    "アップロードしたノートブックを開く際には、```gis``` を変更して、```gis = GIS(\"home\")``` で ArcGIS Online アカウントに接続することを忘れないようにしましょう。"
   ]
  },
  {
   "cell_type": "markdown",
   "metadata": {
    "heading_collapsed": true
   },
   "source": [
    "# 要約  <a class=\"anchor\" id=\"summary\"></a>"
   ]
  },
  {
   "cell_type": "markdown",
   "metadata": {
    "hidden": true
   },
   "source": [
    "このレッスンでは、ArcGIS Notebooks で最初のノートブック を作成しました。ノートブック のコンテンツ セルについて学びました。ArcGIS Notebooks と ArcGIS API for Python を使用して、マップを作成し、レイヤーを追加して ArcGIS Online に保存するという一般的な GIS ワークフローを完了する方法について学びました。また、ノートブック をダウンロードし、ArcGIS Pro または Jupyter で実行する方法についても学習しました。 \n",
    "\n",
    "基本を学んだので、次は「チャレンジ」（下記）に挑戦したり、[ArcGIS API for Python samples](https://developers.arcgis.com/python/sample-notebooks/) を見て、他に何ができるのか調べてみましょう。"
   ]
  },
  {
   "cell_type": "markdown",
   "metadata": {
    "heading_collapsed": true
   },
   "source": [
    "# チャレンジ <a class=\"anchor\" id=\"challenge\"></a>"
   ]
  },
  {
   "cell_type": "markdown",
   "metadata": {
    "hidden": true
   },
   "source": [
    "マップの作成、コンテンツの検索、レイヤーの追加、および Web マップの保存の方法を学んだので、Python と ArcGIS Notebooks を使用して、興味のある複数のレイヤーを含む別の Web マップを作成します。Web マップを ArcGIS Online に保存します。"
   ]
  }
 ],
 "metadata": {
  "esriNotebookRuntime": {
   "notebookRuntimeName": "ArcGIS Notebook Python 3 Standard",
   "notebookRuntimeVersion": "4.0"
  },
  "kernelspec": {
   "display_name": "Python 3",
   "language": "python",
   "name": "python3"
  },
  "language_info": {
   "codemirror_mode": {
    "name": "ipython",
    "version": 3
   },
   "file_extension": ".py",
   "mimetype": "text/x-python",
   "name": "python",
   "nbconvert_exporter": "python",
   "pygments_lexer": "ipython3",
   "version": "3.7.11"
  }
 },
 "nbformat": 4,
 "nbformat_minor": 2
}
